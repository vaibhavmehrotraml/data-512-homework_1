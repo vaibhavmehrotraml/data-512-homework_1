{
 "cells": [
  {
   "cell_type": "markdown",
   "id": "e0854e92",
   "metadata": {},
   "source": [
    "Import necessary libraries"
   ]
  },
  {
   "cell_type": "code",
   "execution_count": 1,
   "id": "6540f8ea",
   "metadata": {},
   "outputs": [],
   "source": [
    "import json \n",
    "import time\n",
    "import pandas as pd\n",
    "import requests\n",
    "import urllib.parse"
   ]
  },
  {
   "cell_type": "markdown",
   "id": "b3189047",
   "metadata": {},
   "source": [
    "Import dataset with movie titles"
   ]
  },
  {
   "cell_type": "code",
   "execution_count": 2,
   "id": "dd0144c3",
   "metadata": {},
   "outputs": [],
   "source": [
    "df = pd.read_excel('thank_the_academy.AUG.2023.csv.xlsx')"
   ]
  },
  {
   "cell_type": "code",
   "execution_count": 141,
   "id": "d5e45565",
   "metadata": {},
   "outputs": [],
   "source": [
    "API_REQUEST_PAGEVIEWS_ENDPOINT = 'https://wikimedia.org/api/rest_v1/metrics/pageviews/'\n",
    "API_REQUEST_PER_ARTICLE_PARAMS = 'per-article/{project}/{access}/{agent}/{article}/{granularity}/{start}/{end}'\n",
    "API_LATENCY_ASSUMED = 0.002       # Assuming roughly 2ms latency on the API and network\n",
    "API_THROTTLE_WAIT = (1.0/100.0)-API_LATENCY_ASSUMED\n",
    "\n",
    "REQUEST_HEADERS = {\n",
    "    'User-Agent': '<vaibhav1@uw.edu>, University of Washington, MSDS DATA 512 - AUTUMN 2023',\n",
    "}\n",
    "\n",
    "def collect_data(access='desktop'):\n",
    "    records = dict()\n",
    "    for title in df.name:\n",
    "        ARTICLE_PAGEVIEWS_PARAMS_TEMPLATE = {\n",
    "        \"project\":     \"en.wikipedia.org\",\n",
    "        \"access\":      access,      # this should be changed for the different access types\n",
    "        \"agent\":       \"user\",\n",
    "        \"article\":     title,\n",
    "        \"granularity\": \"monthly\",\n",
    "        \"start\":       \"20150701\",   # start and end dates need to be set\n",
    "        \"end\":         \"20231030\"    # this is likely the wrong end date\n",
    "        }\n",
    "        views = request_pageviews_per_article(request_template=ARTICLE_PAGEVIEWS_PARAMS_TEMPLATE)\n",
    "        if 'items' not in views.keys():\n",
    "            print(f\"No data found for {title}\")\n",
    "            print(f\"Return message {views}\")\n",
    "            continue\n",
    "        records[title] = views['items']\n",
    "    return records"
   ]
  },
  {
   "cell_type": "markdown",
   "id": "5fd4ff49",
   "metadata": {},
   "source": [
    "This code example was developed by Vaibhav Mehrotra and largely reuses code written by Dr. David W. McDonald for use in DATA 512, a course in the UW MS Data Science degree program. This code is provided under the Creative Commons CC-BY license. Revision 1.2 - October 8, 2023"
   ]
  },
  {
   "cell_type": "code",
   "execution_count": 142,
   "id": "d3fc8742",
   "metadata": {},
   "outputs": [],
   "source": [
    "API_REQUEST_PER_ARTICLE_PARAMS = 'per-article/{project}/{access}/{agent}/{article}/{granularity}/{start}/{end}'\n",
    "API_REQUEST_PAGEVIEWS_ENDPOINT = 'https://wikimedia.org/api/rest_v1/metrics/pageviews/'\n",
    "\n",
    "def request_pageviews_per_article(article_title = None, \n",
    "                                  endpoint_url = API_REQUEST_PAGEVIEWS_ENDPOINT, \n",
    "                                  endpoint_params = API_REQUEST_PER_ARTICLE_PARAMS, \n",
    "                                  request_template = None,\n",
    "                                  headers = REQUEST_HEADERS):\n",
    "\n",
    "    if article_title:\n",
    "        request_template['article'] = article_title\n",
    "\n",
    "    if not request_template['article']:\n",
    "        raise Exception(\"Must supply an article title to make a pageviews request.\")\n",
    "\n",
    "    article_title_encoded = urllib.parse.quote(request_template['article'].replace(' ','_'))\n",
    "    request_template['article'] = article_title_encoded\n",
    "    \n",
    "    request_url = endpoint_url+endpoint_params.format(**request_template)\n",
    "    \n",
    "    \n",
    "    try:\n",
    "        if API_THROTTLE_WAIT > 0.0:\n",
    "            time.sleep(API_THROTTLE_WAIT)\n",
    "        response = requests.get(request_url, headers=headers)\n",
    "        json_response = response.json()\n",
    "    except Exception as e:\n",
    "        print(e)\n",
    "        json_response = None\n",
    "    return json_response"
   ]
  },
  {
   "cell_type": "markdown",
   "id": "94c9c834",
   "metadata": {},
   "source": [
    "Run data collection functions"
   ]
  },
  {
   "cell_type": "code",
   "execution_count": 144,
   "id": "2548bd79",
   "metadata": {},
   "outputs": [
    {
     "name": "stdout",
     "output_type": "stream",
     "text": [
      "No data found for Victor/Victoria\n",
      "Return message {'type': 'https://mediawiki.org/wiki/HyperSwitch/errors/not_found#route', 'title': 'Not found.', 'method': 'get', 'uri': '/wikimedia.org/v1/metrics/pageviews/per-article/en.wikipedia.org/mobile-app/user/Victor/Victoria/monthly/20150701/20231030'}\n"
     ]
    }
   ],
   "source": [
    "desktop_records = collect_data('desktop')\n",
    "mobile_app_records = collect_data('mobile-app')"
   ]
  },
  {
   "cell_type": "code",
   "execution_count": 145,
   "id": "12ec27f0",
   "metadata": {},
   "outputs": [
    {
     "name": "stdout",
     "output_type": "stream",
     "text": [
      "No data found for Victor/Victoria\n",
      "Return message {'type': 'https://mediawiki.org/wiki/HyperSwitch/errors/not_found#route', 'title': 'Not found.', 'method': 'get', 'uri': '/wikimedia.org/v1/metrics/pageviews/per-article/en.wikipedia.org/mobile-web/user/Victor/Victoria/monthly/20150701/20231030'}\n"
     ]
    }
   ],
   "source": [
    "mobile_web_records = collect_data('mobile-web')\n",
    "mobile_records = mobile_app_records.copy()"
   ]
  },
  {
   "cell_type": "markdown",
   "id": "6a92a8e9",
   "metadata": {},
   "source": [
    "> The title Victor/Victoria was not found on Wikipedia for desktop, mobile-app and mobile-web"
   ]
  },
  {
   "cell_type": "markdown",
   "id": "f1c640d5",
   "metadata": {},
   "source": [
    "Remove access key from the data entries"
   ]
  },
  {
   "cell_type": "code",
   "execution_count": 146,
   "id": "834d7c01",
   "metadata": {},
   "outputs": [],
   "source": [
    "for title in desktop_records.keys():\n",
    "    for entry in desktop_records[title]:\n",
    "        entry.pop('access', None)\n",
    "        \n",
    "for title in mobile_app_records.keys():\n",
    "    for entry in mobile_app_records[title]:\n",
    "        entry.pop('access', None)\n",
    "        \n",
    "for title in mobile_web_records.keys():\n",
    "    for entry in mobile_web_records[title]:\n",
    "        entry.pop('access', None)"
   ]
  },
  {
   "cell_type": "markdown",
   "id": "8dc7a6b8",
   "metadata": {},
   "source": [
    "Combine mobile-app and mobile-web entries into a mobile dict"
   ]
  },
  {
   "cell_type": "code",
   "execution_count": 147,
   "id": "3ff2de72",
   "metadata": {},
   "outputs": [],
   "source": [
    "for title in mobile_app_records.keys():\n",
    "    for idx, entry in enumerate(mobile_app_records[title]):\n",
    "        mobile_records[title][idx]['views'] = entry['views'] + mobile_web_records[title][idx]['views']"
   ]
  },
  {
   "cell_type": "markdown",
   "id": "84b82370",
   "metadata": {},
   "source": [
    "Save monthly data"
   ]
  },
  {
   "cell_type": "code",
   "execution_count": 148,
   "id": "9c15b4a6",
   "metadata": {},
   "outputs": [],
   "source": [
    "import json\n",
    "with open('academy_monthly_mobile_201507-202310.json', 'w') as f:\n",
    "    json.dump(mobile_records, f)\n",
    "with open('academy_monthly_desktop_201507-202310.json', 'w') as f:\n",
    "    json.dump(desktop_records, f)"
   ]
  },
  {
   "cell_type": "markdown",
   "id": "eaae9749",
   "metadata": {},
   "source": [
    "Calculate cumilative data for both desktop and mobile views and save the data"
   ]
  },
  {
   "cell_type": "code",
   "execution_count": 150,
   "id": "dc231cff",
   "metadata": {},
   "outputs": [],
   "source": [
    "cumulative_records = desktop_records.copy()\n",
    "\n",
    "for title in desktop_records.keys():\n",
    "    for idx, entry in enumerate(desktop_records[title]):\n",
    "        cumulative_records[title][idx]['views'] = entry['views'] + mobile_records[title][idx]['views']"
   ]
  },
  {
   "cell_type": "code",
   "execution_count": 151,
   "id": "afa4f58f",
   "metadata": {},
   "outputs": [],
   "source": [
    "with open('academy_monthly_cumulative_201507-202310.json', 'w') as f:\n",
    "    json.dump(cumulative_records, f)"
   ]
  }
 ],
 "metadata": {
  "kernelspec": {
   "display_name": "Python 3 (ipykernel)",
   "language": "python",
   "name": "python3"
  },
  "language_info": {
   "codemirror_mode": {
    "name": "ipython",
    "version": 3
   },
   "file_extension": ".py",
   "mimetype": "text/x-python",
   "name": "python",
   "nbconvert_exporter": "python",
   "pygments_lexer": "ipython3",
   "version": "3.9.16"
  }
 },
 "nbformat": 4,
 "nbformat_minor": 5
}
